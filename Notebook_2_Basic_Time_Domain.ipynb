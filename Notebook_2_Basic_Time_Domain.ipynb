{
 "cells": [
  {
   "cell_type": "markdown",
   "id": "28e91015",
   "metadata": {},
   "source": [
    "**Author:** Andy Tzanidakis, Neven Caplar and the LINCC Frameworks team \\\n",
    "**Last updated**: November 07, 2024"
   ]
  },
  {
   "cell_type": "markdown",
   "id": "e8e3bcea",
   "metadata": {},
   "source": [
    "## Overview\n",
    "\n",
    "In this notebook we will learn how to:\n",
    "\n",
    "- Query and filter catalog data\n",
    "- Compute time-series features for LSDB catalogs using `nested-dask`\n",
    "- Plot light curves and periodograms"
   ]
  },
  {
   "cell_type": "code",
   "execution_count": 1,
   "id": "06a43853-ff91-445a-8120-71ea95abf22f",
   "metadata": {
    "execution": {
     "iopub.execute_input": "2024-11-08T16:33:40.957576Z",
     "iopub.status.busy": "2024-11-08T16:33:40.957451Z",
     "iopub.status.idle": "2024-11-08T16:33:41.798976Z",
     "shell.execute_reply": "2024-11-08T16:33:41.798560Z",
     "shell.execute_reply.started": "2024-11-08T16:33:40.957562Z"
    }
   },
   "outputs": [
    {
     "name": "stdout",
     "output_type": "stream",
     "text": [
      "Note: you may need to restart the kernel to use updated packages.\n"
     ]
    }
   ],
   "source": [
    "%pip install -q -r requirements.txt"
   ]
  },
  {
   "cell_type": "code",
   "execution_count": 2,
   "id": "632195c4",
   "metadata": {
    "execution": {
     "iopub.execute_input": "2024-11-08T16:33:41.799752Z",
     "iopub.status.busy": "2024-11-08T16:33:41.799598Z",
     "iopub.status.idle": "2024-11-08T16:33:43.782400Z",
     "shell.execute_reply": "2024-11-08T16:33:43.781970Z",
     "shell.execute_reply.started": "2024-11-08T16:33:41.799737Z"
    }
   },
   "outputs": [
    {
     "name": "stdout",
     "output_type": "stream",
     "text": [
      "Version of lsdb is 0.4.2\n"
     ]
    }
   ],
   "source": [
    "# Standard library imports\n",
    "import os\n",
    "\n",
    "# Third-party imports\n",
    "import numpy as np\n",
    "import pandas as pd\n",
    "import matplotlib as mpl\n",
    "import matplotlib.pyplot as plt\n",
    "import matplotlib.patches as patches\n",
    "from matplotlib import rcParams\n",
    "from matplotlib.colors import LogNorm\n",
    "import astropy.units as u\n",
    "from astropy.coordinates import SkyCoord, Angle\n",
    "import dask\n",
    "from dask.distributed import Client\n",
    "\n",
    "# Local library-specific imports\n",
    "import lsdb\n",
    "from lsdb.core.search import BoxSearch, ConeSearch, PolygonSearch\n",
    "from hats.inspection import plot_pixels\n",
    "from hats.io.file_io import read_parquet_metadata\n",
    "\n",
    "# Astropy\n",
    "from astropy.timeseries import LombScargle\n",
    "\n",
    "# light-curve package for feature extraction\n",
    "import light_curve as licu\n",
    "\n",
    "# Jupyter-specific settings and magic commands\n",
    "%matplotlib inline\n",
    "%config InlineBackend.figure_format = \"retina\"\n",
    "\n",
    "# Configuration settings\n",
    "rcParams['savefig.dpi'] = 550\n",
    "rcParams['font.size'] = 20\n",
    "plt.rc('font', family='serif')\n",
    "mpl.rcParams['axes.linewidth'] = 2\n",
    "\n",
    "print(f'Version of lsdb is {lsdb.__version__}')"
   ]
  },
  {
   "cell_type": "code",
   "execution_count": 3,
   "id": "9f1bf85e",
   "metadata": {
    "execution": {
     "iopub.execute_input": "2024-11-08T16:33:43.783229Z",
     "iopub.status.busy": "2024-11-08T16:33:43.782880Z",
     "iopub.status.idle": "2024-11-08T16:33:43.785741Z",
     "shell.execute_reply": "2024-11-08T16:33:43.785395Z",
     "shell.execute_reply.started": "2024-11-08T16:33:43.783214Z"
    }
   },
   "outputs": [],
   "source": [
    "catalogs_dir = \"https://data.lsdb.io/hats\"\n",
    "\n",
    "# Gaia\n",
    "gaia_path = f\"{catalogs_dir}/gaia_dr3/gaia\"\n",
    "gaia_margin_path = f\"{catalogs_dir}/gaia_dr3/gaia_10arcs\"\n",
    "\n",
    "# ZTF\n",
    "ztf_object_path = f\"{catalogs_dir}/ztf_dr14/ztf_object\"\n",
    "ztf_source_path = f\"{catalogs_dir}/ztf_dr14/ztf_source\"\n",
    "ztf_object_margin_path = f\"{catalogs_dir}/ztf_dr14/ztf_object_10arcs\""
   ]
  },
  {
   "cell_type": "markdown",
   "id": "956fb1c3",
   "metadata": {},
   "source": [
    "## Initialize Dask Client"
   ]
  },
  {
   "cell_type": "markdown",
   "id": "85c99018",
   "metadata": {},
   "source": [
    "Before we start building our workflow, let's initialize our Dask Client. The machine we're using has 16 cores and 64GiB of RAM so we'll decide to make good use of resources and go with 10 workers, each with 6 GiB of memory and 1 thread."
   ]
  },
  {
   "cell_type": "code",
   "execution_count": 4,
   "id": "5fad7939",
   "metadata": {
    "execution": {
     "iopub.execute_input": "2024-11-08T16:33:43.786259Z",
     "iopub.status.busy": "2024-11-08T16:33:43.786133Z",
     "iopub.status.idle": "2024-11-08T16:33:45.025044Z",
     "shell.execute_reply": "2024-11-08T16:33:45.024621Z",
     "shell.execute_reply.started": "2024-11-08T16:33:43.786248Z"
    }
   },
   "outputs": [],
   "source": [
    "from dask.distributed import Client\n",
    "client = Client(n_workers=10, memory_limit=\"6GiB\", threads_per_worker=1)"
   ]
  },
  {
   "cell_type": "markdown",
   "id": "29dbb87d",
   "metadata": {},
   "source": [
    "## Get Gaia and ZTF\n",
    "\n",
    "Let's read Gaia and ZTF (both lazily) as demonstrated in the first notebook."
   ]
  },
  {
   "cell_type": "code",
   "execution_count": 5,
   "id": "ec7e3d4e",
   "metadata": {
    "execution": {
     "iopub.execute_input": "2024-11-08T16:33:45.025655Z",
     "iopub.status.busy": "2024-11-08T16:33:45.025507Z",
     "iopub.status.idle": "2024-11-08T16:33:47.066737Z",
     "shell.execute_reply": "2024-11-08T16:33:47.066305Z",
     "shell.execute_reply.started": "2024-11-08T16:33:45.025642Z"
    }
   },
   "outputs": [
    {
     "ename": "KeyboardInterrupt",
     "evalue": "",
     "output_type": "error",
     "traceback": [
      "\u001b[0;31m---------------------------------------------------------------------------\u001b[0m",
      "\u001b[0;31mKeyboardInterrupt\u001b[0m                         Traceback (most recent call last)",
      "File \u001b[0;32m<timed exec>:2\u001b[0m\n",
      "File \u001b[0;32m/opt/conda/envs/notebook/lib/python3.11/site-packages/lsdb/loaders/hats/read_hats.py:71\u001b[0m, in \u001b[0;36mread_hats\u001b[0;34m(path, search_filter, columns, margin_cache, dtype_backend, **kwargs)\u001b[0m\n\u001b[1;32m     62\u001b[0m \u001b[38;5;66;03m# Creates a config object to store loading parameters from all keyword arguments.\u001b[39;00m\n\u001b[1;32m     63\u001b[0m config \u001b[38;5;241m=\u001b[39m HatsLoadingConfig(\n\u001b[1;32m     64\u001b[0m     search_filter\u001b[38;5;241m=\u001b[39msearch_filter,\n\u001b[1;32m     65\u001b[0m     columns\u001b[38;5;241m=\u001b[39mcolumns,\n\u001b[0;32m   (...)\u001b[0m\n\u001b[1;32m     68\u001b[0m     kwargs\u001b[38;5;241m=\u001b[39mkwargs,\n\u001b[1;32m     69\u001b[0m )\n\u001b[0;32m---> 71\u001b[0m hc_catalog \u001b[38;5;241m=\u001b[39m \u001b[43mhc\u001b[49m\u001b[38;5;241;43m.\u001b[39;49m\u001b[43mread_hats\u001b[49m\u001b[43m(\u001b[49m\u001b[43mpath\u001b[49m\u001b[43m)\u001b[49m\n\u001b[1;32m     72\u001b[0m \u001b[38;5;28;01mif\u001b[39;00m hc_catalog\u001b[38;5;241m.\u001b[39mschema \u001b[38;5;129;01mis\u001b[39;00m \u001b[38;5;28;01mNone\u001b[39;00m:\n\u001b[1;32m     73\u001b[0m     \u001b[38;5;28;01mraise\u001b[39;00m \u001b[38;5;167;01mValueError\u001b[39;00m(\n\u001b[1;32m     74\u001b[0m         \u001b[38;5;124m\"\u001b[39m\u001b[38;5;124mThe catalog schema could not be loaded from metadata.\u001b[39m\u001b[38;5;124m\"\u001b[39m\n\u001b[1;32m     75\u001b[0m         \u001b[38;5;124m\"\u001b[39m\u001b[38;5;124m Ensure your catalog has _common_metadata or _metadata files\u001b[39m\u001b[38;5;124m\"\u001b[39m\n\u001b[1;32m     76\u001b[0m     )\n",
      "File \u001b[0;32m/opt/conda/envs/notebook/lib/python3.11/site-packages/hats/loaders/read_hats.py:51\u001b[0m, in \u001b[0;36mread_hats\u001b[0;34m(catalog_path)\u001b[0m\n\u001b[1;32m     45\u001b[0m kwargs \u001b[38;5;241m=\u001b[39m {\n\u001b[1;32m     46\u001b[0m     \u001b[38;5;124m\"\u001b[39m\u001b[38;5;124mcatalog_path\u001b[39m\u001b[38;5;124m\"\u001b[39m: catalog_path,\n\u001b[1;32m     47\u001b[0m     \u001b[38;5;124m\"\u001b[39m\u001b[38;5;124mcatalog_info\u001b[39m\u001b[38;5;124m\"\u001b[39m: properties,\n\u001b[1;32m     48\u001b[0m     \u001b[38;5;124m\"\u001b[39m\u001b[38;5;124mschema\u001b[39m\u001b[38;5;124m\"\u001b[39m: _read_schema_from_metadata(catalog_path),\n\u001b[1;32m     49\u001b[0m }\n\u001b[1;32m     50\u001b[0m \u001b[38;5;28;01mif\u001b[39;00m _is_healpix_dataset(dataset_type):\n\u001b[0;32m---> 51\u001b[0m     kwargs[\u001b[38;5;124m\"\u001b[39m\u001b[38;5;124mpixels\u001b[39m\u001b[38;5;124m\"\u001b[39m] \u001b[38;5;241m=\u001b[39m \u001b[43mPartitionInfo\u001b[49m\u001b[38;5;241;43m.\u001b[39;49m\u001b[43mread_from_dir\u001b[49m\u001b[43m(\u001b[49m\u001b[43mcatalog_path\u001b[49m\u001b[43m)\u001b[49m\n\u001b[1;32m     52\u001b[0m     kwargs[\u001b[38;5;124m\"\u001b[39m\u001b[38;5;124mmoc\u001b[39m\u001b[38;5;124m\"\u001b[39m] \u001b[38;5;241m=\u001b[39m _read_moc_from_point_map(catalog_path)\n\u001b[1;32m     53\u001b[0m \u001b[38;5;28;01mif\u001b[39;00m dataset_type \u001b[38;5;241m==\u001b[39m CatalogType\u001b[38;5;241m.\u001b[39mASSOCIATION:\n",
      "File \u001b[0;32m/opt/conda/envs/notebook/lib/python3.11/site-packages/hats/catalog/partition_info.py:134\u001b[0m, in \u001b[0;36mPartitionInfo.read_from_dir\u001b[0;34m(cls, catalog_base_dir)\u001b[0m\n\u001b[1;32m    132\u001b[0m partition_info_file \u001b[38;5;241m=\u001b[39m paths\u001b[38;5;241m.\u001b[39mget_partition_info_pointer(catalog_base_dir)\n\u001b[1;32m    133\u001b[0m \u001b[38;5;28;01mif\u001b[39;00m file_io\u001b[38;5;241m.\u001b[39mdoes_file_or_directory_exist(partition_info_file):\n\u001b[0;32m--> 134\u001b[0m     pixel_list \u001b[38;5;241m=\u001b[39m \u001b[43mPartitionInfo\u001b[49m\u001b[38;5;241;43m.\u001b[39;49m\u001b[43m_read_from_csv\u001b[49m\u001b[43m(\u001b[49m\u001b[43mpartition_info_file\u001b[49m\u001b[43m)\u001b[49m\n\u001b[1;32m    135\u001b[0m \u001b[38;5;28;01melif\u001b[39;00m file_io\u001b[38;5;241m.\u001b[39mdoes_file_or_directory_exist(metadata_file):\n\u001b[1;32m    136\u001b[0m     warnings\u001b[38;5;241m.\u001b[39mwarn(\u001b[38;5;124m\"\u001b[39m\u001b[38;5;124mReading partitions from parquet metadata. This is typically slow.\u001b[39m\u001b[38;5;124m\"\u001b[39m)\n",
      "File \u001b[0;32m/opt/conda/envs/notebook/lib/python3.11/site-packages/hats/catalog/partition_info.py:234\u001b[0m, in \u001b[0;36mPartitionInfo._read_from_csv\u001b[0;34m(cls, partition_info_file)\u001b[0m\n\u001b[1;32m    224\u001b[0m \u001b[38;5;129m@classmethod\u001b[39m\n\u001b[1;32m    225\u001b[0m \u001b[38;5;28;01mdef\u001b[39;00m \u001b[38;5;21m_read_from_csv\u001b[39m(\u001b[38;5;28mcls\u001b[39m, partition_info_file: \u001b[38;5;28mstr\u001b[39m \u001b[38;5;241m|\u001b[39m Path \u001b[38;5;241m|\u001b[39m UPath) \u001b[38;5;241m-\u001b[39m\u001b[38;5;241m>\u001b[39m PartitionInfo:\n\u001b[1;32m    226\u001b[0m \u001b[38;5;250m    \u001b[39m\u001b[38;5;124;03m\"\"\"Read partition info from a `partition_info.csv` file to create an object\u001b[39;00m\n\u001b[1;32m    227\u001b[0m \n\u001b[1;32m    228\u001b[0m \u001b[38;5;124;03m    Args:\u001b[39;00m\n\u001b[0;32m   (...)\u001b[0m\n\u001b[1;32m    232\u001b[0m \u001b[38;5;124;03m        A `PartitionInfo` object with the data from the file\u001b[39;00m\n\u001b[1;32m    233\u001b[0m \u001b[38;5;124;03m    \"\"\"\u001b[39;00m\n\u001b[0;32m--> 234\u001b[0m     \u001b[38;5;28;01mif\u001b[39;00m \u001b[38;5;129;01mnot\u001b[39;00m \u001b[43mfile_io\u001b[49m\u001b[38;5;241;43m.\u001b[39;49m\u001b[43mdoes_file_or_directory_exist\u001b[49m\u001b[43m(\u001b[49m\u001b[43mpartition_info_file\u001b[49m\u001b[43m)\u001b[49m:\n\u001b[1;32m    235\u001b[0m         \u001b[38;5;28;01mraise\u001b[39;00m \u001b[38;5;167;01mFileNotFoundError\u001b[39;00m(\u001b[38;5;124mf\u001b[39m\u001b[38;5;124m\"\u001b[39m\u001b[38;5;124mNo partition info found where expected: \u001b[39m\u001b[38;5;132;01m{\u001b[39;00m\u001b[38;5;28mstr\u001b[39m(partition_info_file)\u001b[38;5;132;01m}\u001b[39;00m\u001b[38;5;124m\"\u001b[39m)\n\u001b[1;32m    237\u001b[0m     data_frame \u001b[38;5;241m=\u001b[39m file_io\u001b[38;5;241m.\u001b[39mload_csv_to_pandas(partition_info_file)\n",
      "File \u001b[0;32m/opt/conda/envs/notebook/lib/python3.11/site-packages/hats/io/file_io/file_pointer.py:43\u001b[0m, in \u001b[0;36mdoes_file_or_directory_exist\u001b[0;34m(pointer)\u001b[0m\n\u001b[1;32m     34\u001b[0m \u001b[38;5;250m\u001b[39m\u001b[38;5;124;03m\"\"\"Checks if a file or directory exists for a given file pointer\u001b[39;00m\n\u001b[1;32m     35\u001b[0m \n\u001b[1;32m     36\u001b[0m \u001b[38;5;124;03mArgs:\u001b[39;00m\n\u001b[0;32m   (...)\u001b[0m\n\u001b[1;32m     40\u001b[0m \u001b[38;5;124;03m    True if file or directory at `pointer` exists, False if not\u001b[39;00m\n\u001b[1;32m     41\u001b[0m \u001b[38;5;124;03m\"\"\"\u001b[39;00m\n\u001b[1;32m     42\u001b[0m pointer \u001b[38;5;241m=\u001b[39m get_upath(pointer)\n\u001b[0;32m---> 43\u001b[0m \u001b[38;5;28;01mreturn\u001b[39;00m \u001b[43mpointer\u001b[49m\u001b[38;5;241;43m.\u001b[39;49m\u001b[43mexists\u001b[49m\u001b[43m(\u001b[49m\u001b[43m)\u001b[49m\n",
      "File \u001b[0;32m/opt/conda/envs/notebook/lib/python3.11/site-packages/upath/core.py:762\u001b[0m, in \u001b[0;36mUPath.exists\u001b[0;34m(self, follow_symlinks)\u001b[0m\n\u001b[1;32m    761\u001b[0m \u001b[38;5;28;01mdef\u001b[39;00m \u001b[38;5;21mexists\u001b[39m(\u001b[38;5;28mself\u001b[39m, \u001b[38;5;241m*\u001b[39m, follow_symlinks\u001b[38;5;241m=\u001b[39m\u001b[38;5;28;01mTrue\u001b[39;00m) \u001b[38;5;241m-\u001b[39m\u001b[38;5;241m>\u001b[39m \u001b[38;5;28mbool\u001b[39m:\n\u001b[0;32m--> 762\u001b[0m     \u001b[38;5;28;01mreturn\u001b[39;00m \u001b[38;5;28;43mself\u001b[39;49m\u001b[38;5;241;43m.\u001b[39;49m\u001b[43mfs\u001b[49m\u001b[38;5;241;43m.\u001b[39;49m\u001b[43mexists\u001b[49m\u001b[43m(\u001b[49m\u001b[38;5;28;43mself\u001b[39;49m\u001b[38;5;241;43m.\u001b[39;49m\u001b[43mpath\u001b[49m\u001b[43m)\u001b[49m\n",
      "File \u001b[0;32m/opt/conda/envs/notebook/lib/python3.11/site-packages/fsspec/asyn.py:118\u001b[0m, in \u001b[0;36msync_wrapper.<locals>.wrapper\u001b[0;34m(*args, **kwargs)\u001b[0m\n\u001b[1;32m    115\u001b[0m \u001b[38;5;129m@functools\u001b[39m\u001b[38;5;241m.\u001b[39mwraps(func)\n\u001b[1;32m    116\u001b[0m \u001b[38;5;28;01mdef\u001b[39;00m \u001b[38;5;21mwrapper\u001b[39m(\u001b[38;5;241m*\u001b[39margs, \u001b[38;5;241m*\u001b[39m\u001b[38;5;241m*\u001b[39mkwargs):\n\u001b[1;32m    117\u001b[0m     \u001b[38;5;28mself\u001b[39m \u001b[38;5;241m=\u001b[39m obj \u001b[38;5;129;01mor\u001b[39;00m args[\u001b[38;5;241m0\u001b[39m]\n\u001b[0;32m--> 118\u001b[0m     \u001b[38;5;28;01mreturn\u001b[39;00m \u001b[43msync\u001b[49m\u001b[43m(\u001b[49m\u001b[38;5;28;43mself\u001b[39;49m\u001b[38;5;241;43m.\u001b[39;49m\u001b[43mloop\u001b[49m\u001b[43m,\u001b[49m\u001b[43m \u001b[49m\u001b[43mfunc\u001b[49m\u001b[43m,\u001b[49m\u001b[43m \u001b[49m\u001b[38;5;241;43m*\u001b[39;49m\u001b[43margs\u001b[49m\u001b[43m,\u001b[49m\u001b[43m \u001b[49m\u001b[38;5;241;43m*\u001b[39;49m\u001b[38;5;241;43m*\u001b[39;49m\u001b[43mkwargs\u001b[49m\u001b[43m)\u001b[49m\n",
      "File \u001b[0;32m/opt/conda/envs/notebook/lib/python3.11/site-packages/fsspec/asyn.py:91\u001b[0m, in \u001b[0;36msync\u001b[0;34m(loop, func, timeout, *args, **kwargs)\u001b[0m\n\u001b[1;32m     88\u001b[0m asyncio\u001b[38;5;241m.\u001b[39mrun_coroutine_threadsafe(_runner(event, coro, result, timeout), loop)\n\u001b[1;32m     89\u001b[0m \u001b[38;5;28;01mwhile\u001b[39;00m \u001b[38;5;28;01mTrue\u001b[39;00m:\n\u001b[1;32m     90\u001b[0m     \u001b[38;5;66;03m# this loops allows thread to get interrupted\u001b[39;00m\n\u001b[0;32m---> 91\u001b[0m     \u001b[38;5;28;01mif\u001b[39;00m \u001b[43mevent\u001b[49m\u001b[38;5;241;43m.\u001b[39;49m\u001b[43mwait\u001b[49m\u001b[43m(\u001b[49m\u001b[38;5;241;43m1\u001b[39;49m\u001b[43m)\u001b[49m:\n\u001b[1;32m     92\u001b[0m         \u001b[38;5;28;01mbreak\u001b[39;00m\n\u001b[1;32m     93\u001b[0m     \u001b[38;5;28;01mif\u001b[39;00m timeout \u001b[38;5;129;01mis\u001b[39;00m \u001b[38;5;129;01mnot\u001b[39;00m \u001b[38;5;28;01mNone\u001b[39;00m:\n",
      "File \u001b[0;32m/opt/conda/envs/notebook/lib/python3.11/threading.py:622\u001b[0m, in \u001b[0;36mEvent.wait\u001b[0;34m(self, timeout)\u001b[0m\n\u001b[1;32m    620\u001b[0m signaled \u001b[38;5;241m=\u001b[39m \u001b[38;5;28mself\u001b[39m\u001b[38;5;241m.\u001b[39m_flag\n\u001b[1;32m    621\u001b[0m \u001b[38;5;28;01mif\u001b[39;00m \u001b[38;5;129;01mnot\u001b[39;00m signaled:\n\u001b[0;32m--> 622\u001b[0m     signaled \u001b[38;5;241m=\u001b[39m \u001b[38;5;28;43mself\u001b[39;49m\u001b[38;5;241;43m.\u001b[39;49m\u001b[43m_cond\u001b[49m\u001b[38;5;241;43m.\u001b[39;49m\u001b[43mwait\u001b[49m\u001b[43m(\u001b[49m\u001b[43mtimeout\u001b[49m\u001b[43m)\u001b[49m\n\u001b[1;32m    623\u001b[0m \u001b[38;5;28;01mreturn\u001b[39;00m signaled\n",
      "File \u001b[0;32m/opt/conda/envs/notebook/lib/python3.11/threading.py:324\u001b[0m, in \u001b[0;36mCondition.wait\u001b[0;34m(self, timeout)\u001b[0m\n\u001b[1;32m    322\u001b[0m \u001b[38;5;28;01melse\u001b[39;00m:\n\u001b[1;32m    323\u001b[0m     \u001b[38;5;28;01mif\u001b[39;00m timeout \u001b[38;5;241m>\u001b[39m \u001b[38;5;241m0\u001b[39m:\n\u001b[0;32m--> 324\u001b[0m         gotit \u001b[38;5;241m=\u001b[39m \u001b[43mwaiter\u001b[49m\u001b[38;5;241;43m.\u001b[39;49m\u001b[43macquire\u001b[49m\u001b[43m(\u001b[49m\u001b[38;5;28;43;01mTrue\u001b[39;49;00m\u001b[43m,\u001b[49m\u001b[43m \u001b[49m\u001b[43mtimeout\u001b[49m\u001b[43m)\u001b[49m\n\u001b[1;32m    325\u001b[0m     \u001b[38;5;28;01melse\u001b[39;00m:\n\u001b[1;32m    326\u001b[0m         gotit \u001b[38;5;241m=\u001b[39m waiter\u001b[38;5;241m.\u001b[39macquire(\u001b[38;5;28;01mFalse\u001b[39;00m)\n",
      "\u001b[0;31mKeyboardInterrupt\u001b[0m: "
     ]
    }
   ],
   "source": [
    "%%time\n",
    "\n",
    "# Load Gaia object table (with margins!)\n",
    "gaia = lsdb.read_hats(gaia_path, columns=['ra', 'dec', 'parallax'], margin_cache=gaia_margin_path)\n",
    "\n",
    "# Define a cone region of interest for ZTF\n",
    "cone_search = ConeSearch(ra=132.8460000, dec=+11.8140000, radius_arcsec=5_000)\n",
    "\n",
    "# Load ZTF object table\n",
    "ztf = lsdb.read_hats(ztf_object_path, columns=['ra', 'dec', 'ps1_objid'], search_filter=cone_search)\n",
    "\n",
    "# Load ZTF DR14 sources\n",
    "ztf_sources = lsdb.read_hats(ztf_source_path, columns=['ra', 'dec', 'mjd', 'mag', 'magerr', 'band', 'ps1_objid', 'catflags'], search_filter=cone_search)"
   ]
  },
  {
   "cell_type": "markdown",
   "id": "45155c55",
   "metadata": {},
   "source": [
    "## Create a sample object catalog\n",
    "\n",
    "To create our sample let's crossmatch our ZTF region with Gaia with a 3-arcsecond radius."
   ]
  },
  {
   "cell_type": "code",
   "execution_count": 6,
   "id": "56f18981",
   "metadata": {
    "execution": {
     "iopub.execute_input": "2024-11-08T16:33:47.069434Z",
     "iopub.status.busy": "2024-11-08T16:33:47.069134Z",
     "iopub.status.idle": "2024-11-08T16:33:47.133521Z",
     "shell.execute_reply": "2024-11-08T16:33:47.132397Z",
     "shell.execute_reply.started": "2024-11-08T16:33:47.069420Z"
    }
   },
   "outputs": [
    {
     "ename": "NameError",
     "evalue": "name 'ztf' is not defined",
     "output_type": "error",
     "traceback": [
      "\u001b[0;31m---------------------------------------------------------------------------\u001b[0m",
      "\u001b[0;31mNameError\u001b[0m                                 Traceback (most recent call last)",
      "Cell \u001b[0;32mIn[6], line 1\u001b[0m\n\u001b[0;32m----> 1\u001b[0m _sample \u001b[38;5;241m=\u001b[39m \u001b[43mztf\u001b[49m\u001b[38;5;241m.\u001b[39mcrossmatch(gaia, radius_arcsec\u001b[38;5;241m=\u001b[39m\u001b[38;5;241m3\u001b[39m)\n",
      "\u001b[0;31mNameError\u001b[0m: name 'ztf' is not defined"
     ]
    }
   ],
   "source": [
    "_sample = ztf.crossmatch(gaia, radius_arcsec=3)"
   ]
  },
  {
   "cell_type": "markdown",
   "id": "4595efce",
   "metadata": {},
   "source": [
    "We can have a look at the object matches because this sample is relatively small and it fits in memory! "
   ]
  },
  {
   "cell_type": "code",
   "execution_count": null,
   "id": "26954a6a",
   "metadata": {
    "execution": {
     "iopub.status.busy": "2024-11-08T16:33:47.133804Z",
     "iopub.status.idle": "2024-11-08T16:33:47.133960Z",
     "shell.execute_reply": "2024-11-08T16:33:47.133890Z",
     "shell.execute_reply.started": "2024-11-08T16:33:47.133883Z"
    }
   },
   "outputs": [],
   "source": [
    "%%time\n",
    "_sample_computed = _sample.compute()\n",
    "_sample_computed"
   ]
  },
  {
   "cell_type": "code",
   "execution_count": null,
   "id": "a1c3a2b8",
   "metadata": {
    "execution": {
     "iopub.status.busy": "2024-11-08T16:33:47.135539Z",
     "iopub.status.idle": "2024-11-08T16:33:47.135681Z",
     "shell.execute_reply": "2024-11-08T16:33:47.135620Z",
     "shell.execute_reply.started": "2024-11-08T16:33:47.135613Z"
    }
   },
   "outputs": [],
   "source": [
    "print (f\"Number of objects in crossmatch: {len(_sample_computed)}\")"
   ]
  },
  {
   "cell_type": "markdown",
   "id": "3bc9c869",
   "metadata": {},
   "source": [
    "We selected a very small region of the sky - 5000 arcsec - and, as a result, our objects are contained in just a handful of pixels. In the following mollview of the pixel map, the gray color means that our sample catalog does not have coverage for that region in space."
   ]
  },
  {
   "cell_type": "code",
   "execution_count": null,
   "id": "9cb672f3",
   "metadata": {
    "execution": {
     "iopub.status.busy": "2024-11-08T16:33:47.136124Z",
     "iopub.status.idle": "2024-11-08T16:33:47.136267Z",
     "shell.execute_reply": "2024-11-08T16:33:47.136205Z",
     "shell.execute_reply.started": "2024-11-08T16:33:47.136198Z"
    }
   },
   "outputs": [],
   "source": [
    "_sample.plot_coverage(\n",
    "    center=SkyCoord(ra=132.8460000, dec=+11.8140000, unit='deg'),\n",
    "    fov=(Angle(\"20deg\"), Angle(\"20deg\")),\n",
    ")\n",
    "fig, ax = _sample.plot_pixels(\n",
    "    center=SkyCoord(ra=132.8460000, dec=+11.8140000, unit='deg'),\n",
    "    fov=(Angle(\"20deg\"), Angle(\"20deg\")),\n",
    "    edgecolor='grey',\n",
    ")"
   ]
  },
  {
   "cell_type": "markdown",
   "id": "4aaa6134",
   "metadata": {},
   "source": [
    "## Fetch ZTF light curves for the samples\n",
    "\n",
    "We will now perform a join operation between our sample objects and their respective ZTF sources. We will use the PanSTARRS object ID, as this is the index that both catalogs share. This is where `nested-dask` features come in handy. Under the hood, this `join_nested` call packs the time-domain data of each object as an additional column, which we decided to conveniently named `sources`."
   ]
  },
  {
   "cell_type": "code",
   "execution_count": null,
   "id": "42d73d5f",
   "metadata": {
    "execution": {
     "iopub.status.busy": "2024-11-08T16:33:47.136702Z",
     "iopub.status.idle": "2024-11-08T16:33:47.136836Z",
     "shell.execute_reply": "2024-11-08T16:33:47.136776Z",
     "shell.execute_reply.started": "2024-11-08T16:33:47.136770Z"
    }
   },
   "outputs": [],
   "source": [
    "_sources = _sample.join_nested(\n",
    "    ztf_sources, left_on=\"ps1_objid_ztf_dr14\", right_on=\"ps1_objid\", nested_column_name=\"sources\")\n",
    "_sources"
   ]
  },
  {
   "cell_type": "markdown",
   "id": "8e3ada67",
   "metadata": {},
   "source": [
    "Note that we also get a warning stating that we are not using a margin catalog, as previously discussed in the first notebook."
   ]
  },
  {
   "cell_type": "markdown",
   "id": "abe92867",
   "metadata": {},
   "source": [
    "## Filter on r-band\n",
    "\n",
    "Our workflow will only operate on r-band data. We can apply the necessary cuts to our data to make sure that only light curves that have at least 10 observations in r-band will be considered!"
   ]
  },
  {
   "cell_type": "code",
   "execution_count": null,
   "id": "b6995cde",
   "metadata": {
    "execution": {
     "iopub.status.busy": "2024-11-08T16:33:47.137360Z",
     "iopub.status.idle": "2024-11-08T16:33:47.137489Z",
     "shell.execute_reply": "2024-11-08T16:33:47.137431Z",
     "shell.execute_reply.started": "2024-11-08T16:33:47.137426Z"
    }
   },
   "outputs": [],
   "source": [
    "# Query for valid observations in r-band\n",
    "r_band = _sources.query(\n",
    "    \"sources.band == 'r'\"  # r-band only\n",
    "    \" and sources.catflags == 0\"  # good observational conditions\n",
    "    \" and sources.mag < 99\"  # valid magnitude\n",
    "    \" and 0 < sources.magerr < 99\"  # valid magnitude error\n",
    ")\n",
    "# Calculate the number of observations\n",
    "r_band = r_band.reduce(lambda mjd: {\"nobs\": mjd.size}, \"sources.mjd\", meta={\"nobs\": int}, append_columns=True)\n",
    "r_band = r_band.query(\"nobs > 10\")"
   ]
  },
  {
   "cell_type": "code",
   "execution_count": null,
   "id": "1e5d4039",
   "metadata": {
    "execution": {
     "iopub.status.busy": "2024-11-08T16:33:47.138013Z",
     "iopub.status.idle": "2024-11-08T16:33:47.138141Z",
     "shell.execute_reply": "2024-11-08T16:33:47.138084Z",
     "shell.execute_reply.started": "2024-11-08T16:33:47.138078Z"
    }
   },
   "outputs": [],
   "source": [
    "r_band"
   ]
  },
  {
   "cell_type": "code",
   "execution_count": null,
   "id": "65203f7a",
   "metadata": {
    "execution": {
     "iopub.status.busy": "2024-11-08T16:33:47.138612Z",
     "iopub.status.idle": "2024-11-08T16:33:47.138743Z",
     "shell.execute_reply": "2024-11-08T16:33:47.138682Z",
     "shell.execute_reply.started": "2024-11-08T16:33:47.138676Z"
    }
   },
   "outputs": [],
   "source": [
    "%%time\n",
    "# Cache the data in memory - we will use it later again\n",
    "r_band._ddf = r_band._ddf.persist()\n",
    "# Convert lsdb.Catalog to pandas.DataFrame\n",
    "r_band.compute()"
   ]
  },
  {
   "cell_type": "markdown",
   "id": "29484dc1",
   "metadata": {},
   "source": [
    "## Extract features from light curves\n",
    "\n",
    "We will now write custom analysis functions to compute features (statistics) on each light curve. Some of these timeseries features (e.g. Von Neumann, excess variance) characterize the amount of outliers in the timeseries. They have been heavily used in literature, for example, to find variable stars."
   ]
  },
  {
   "cell_type": "code",
   "execution_count": null,
   "id": "d76e94cf",
   "metadata": {
    "execution": {
     "iopub.status.busy": "2024-11-08T16:33:47.139059Z",
     "iopub.status.idle": "2024-11-08T16:33:47.139194Z",
     "shell.execute_reply": "2024-11-08T16:33:47.139134Z",
     "shell.execute_reply.started": "2024-11-08T16:33:47.139127Z"
    }
   },
   "outputs": [],
   "source": [
    "extractor = licu.Extractor(\n",
    "    licu.Periodogram(\n",
    "        peaks=1,\n",
    "        max_freq_factor=10.0,\n",
    "        resolution=50.0,\n",
    "        # nyquist='median',\n",
    "        # fast=True,\n",
    "    ),  # Would give two features: peak period and signa-to-noise ratio of the peak\n",
    "    licu.WeightedMean(),  # Mean magnitude\n",
    "    licu.Eta(),  # Von Neumann's eta statistics\n",
    "    licu.ExcessVariance(),  # Excess variance statistics\n",
    "    licu.Amplitude(),  # 0.5 * [max(mag) - min(mag)]\n",
    ")\n",
    "\n",
    "\n",
    "# light-curve package requires all arrays to be the same dtype.\n",
    "# It also requires the time array to be ordered and to have no duplicates.\n",
    "def calc_features(mjd, mag, magerr, **kwargs):\n",
    "    # We offset date, so we still would have <1 second precision\n",
    "    t = np.asarray(mjd - 60000, dtype=np.float32)\n",
    "    _, sort_index = np.unique(t, return_index=True)\n",
    "    features = extractor(\n",
    "        t[sort_index],\n",
    "        mag[sort_index],\n",
    "        magerr[sort_index],\n",
    "        **kwargs,\n",
    "    )\n",
    "    # Return the features as a dictionary\n",
    "    return dict(zip(extractor.names, features))\n",
    "\n",
    "\n",
    "features = r_band.reduce(\n",
    "    calc_features,\n",
    "    \"sources.mjd\",\n",
    "    \"sources.mag\",\n",
    "    \"sources.magerr\",\n",
    "    meta={name: np.float32 for name in extractor.names},\n",
    "    append_columns=True,\n",
    ")\n",
    "features"
   ]
  },
  {
   "cell_type": "markdown",
   "id": "22af4c82",
   "metadata": {},
   "source": [
    "We can now apply the feature calculator function `calc_features` to each light curve."
   ]
  },
  {
   "cell_type": "markdown",
   "id": "c79e10e3",
   "metadata": {},
   "source": [
    "Let's compute the result (bring it into memory). This will take a minute or two and display some expected runtime warnings."
   ]
  },
  {
   "cell_type": "code",
   "execution_count": null,
   "id": "0f1e2ff1",
   "metadata": {
    "execution": {
     "iopub.status.busy": "2024-11-08T16:33:47.139651Z",
     "iopub.status.idle": "2024-11-08T16:33:47.139776Z",
     "shell.execute_reply": "2024-11-08T16:33:47.139721Z",
     "shell.execute_reply.started": "2024-11-08T16:33:47.139714Z"
    },
    "scrolled": true
   },
   "outputs": [],
   "source": [
    "%%time\n",
    "features_computed = features.compute()"
   ]
  },
  {
   "cell_type": "markdown",
   "id": "d88f8bda",
   "metadata": {},
   "source": [
    "Let's inspect the results table and make some plots of our time series features."
   ]
  },
  {
   "cell_type": "code",
   "execution_count": null,
   "id": "a2709bbd",
   "metadata": {
    "execution": {
     "iopub.status.busy": "2024-11-08T16:33:47.140187Z",
     "iopub.status.idle": "2024-11-08T16:33:47.140316Z",
     "shell.execute_reply": "2024-11-08T16:33:47.140258Z",
     "shell.execute_reply.started": "2024-11-08T16:33:47.140252Z"
    }
   },
   "outputs": [],
   "source": [
    "# We have the results!\n",
    "features_computed"
   ]
  },
  {
   "cell_type": "markdown",
   "id": "30a0db6e",
   "metadata": {},
   "source": [
    "In this figure we demonstrate the periods corresponding to highest power in the Lomb Scargle periodogram. Immediately, we can see a few overdensities of period, that are likely originating from the ZTF aliasing sampling cadence. Between those aliasing periods, those with high SNR score are possible periodic candidates that will require further investigation."
   ]
  },
  {
   "cell_type": "code",
   "execution_count": null,
   "id": "04f38bc0",
   "metadata": {
    "execution": {
     "iopub.status.busy": "2024-11-08T16:33:47.140712Z",
     "iopub.status.idle": "2024-11-08T16:33:47.140835Z",
     "shell.execute_reply": "2024-11-08T16:33:47.140780Z",
     "shell.execute_reply.started": "2024-11-08T16:33:47.140774Z"
    }
   },
   "outputs": [],
   "source": [
    "lg_period_bins = np.linspace(-0.5, 2.5, 101)\n",
    "lg_snr_bins = np.linspace(0.5, 1.5, 101)\n",
    "plt.hist2d(\n",
    "    np.log10(features_computed[\"period_0\"]),\n",
    "    np.log10(features_computed[\"period_s_to_n_0\"]),\n",
    "    bins=[lg_period_bins, lg_snr_bins],\n",
    "    norm=LogNorm(),\n",
    ")\n",
    "plt.colorbar(label=\"count\")\n",
    "plt.xlabel('lg(Period/day)')\n",
    "plt.ylabel('lg(Periodogram Peak S/N)')\n",
    "plt.minorticks_on()"
   ]
  },
  {
   "cell_type": "markdown",
   "id": "54ac1a06",
   "metadata": {},
   "source": [
    "Below is the ZTF periodogram where also observe the aliasing sampling periods. For more information about periodograms please have a look at the [references](#References) section of this notebook.\n",
    "\n",
    "![ZTF periodogram](https://raw.githubusercontent.com/lincc-frameworks/MWGaia-DN_Introductory_School/main/assets/ztf-periodogram.jpg)"
   ]
  },
  {
   "cell_type": "markdown",
   "id": "afe4b7fe",
   "metadata": {},
   "source": [
    "## Plot light curve\n",
    "\n",
    "We can now find a ZTF object with a high period SNR and that is bright, and plot the ZTF-r band light curve."
   ]
  },
  {
   "cell_type": "code",
   "execution_count": null,
   "id": "8eeac50e",
   "metadata": {
    "execution": {
     "iopub.status.busy": "2024-11-08T16:33:47.141206Z",
     "iopub.status.idle": "2024-11-08T16:33:47.141329Z",
     "shell.execute_reply": "2024-11-08T16:33:47.141274Z",
     "shell.execute_reply.started": "2024-11-08T16:33:47.141268Z"
    }
   },
   "outputs": [],
   "source": [
    "# Select good SNR candidate\n",
    "# Filter out bogus periods\n",
    "good_periods = features_computed.query(\n",
    "    \"period_0 < 400\"  # large periods are likely to be bogus, e.g. about of duration of light curve\n",
    "    \" and not(29 < period_0 < 30)\"  # lunar month\n",
    "    \" and not(0.95 < period_0 < 1.05)\"  # day\n",
    ")\n",
    "# Select bright stars with highest S/N of the peridogram peak\n",
    "top5 = good_periods.sort_values('period_s_to_n_0').tail(5)\n",
    "top5"
   ]
  },
  {
   "cell_type": "code",
   "execution_count": null,
   "id": "bf2814c0",
   "metadata": {
    "execution": {
     "iopub.status.busy": "2024-11-08T16:33:47.141732Z",
     "iopub.status.idle": "2024-11-08T16:33:47.141857Z",
     "shell.execute_reply": "2024-11-08T16:33:47.141801Z",
     "shell.execute_reply.started": "2024-11-08T16:33:47.141796Z"
    }
   },
   "outputs": [],
   "source": [
    "# Select a light curve with high SNR\n",
    "i = 4\n",
    "best_period = top5['period_0'].iloc[i]  # (in days) best period from the above table\n",
    "lc = top5['sources'].iloc[i]\n",
    "lc"
   ]
  },
  {
   "cell_type": "markdown",
   "id": "9f5644e6",
   "metadata": {},
   "source": [
    "When we fold the light curve on the correct period the scatter between the points is minimized, and therefore, the observations line up."
   ]
  },
  {
   "cell_type": "code",
   "execution_count": null,
   "id": "d0e0dbe0",
   "metadata": {
    "execution": {
     "iopub.status.busy": "2024-11-08T16:33:47.142255Z",
     "iopub.status.idle": "2024-11-08T16:33:47.142379Z",
     "shell.execute_reply": "2024-11-08T16:33:47.142322Z",
     "shell.execute_reply.started": "2024-11-08T16:33:47.142317Z"
    }
   },
   "outputs": [],
   "source": [
    "fig, ax = plt.subplots(1, 2, figsize=(13, 5))\n",
    "\n",
    "ax[0].errorbar(\n",
    "    lc[\"mjd\"],\n",
    "    lc[\"mag\"],\n",
    "    yerr=lc[\"magerr\"], \n",
    "    fmt='.',\n",
    "    color='indianred'\n",
    ")\n",
    "\n",
    "ax[1].errorbar((lc[\"mjd\"].to_numpy()%best_period)/best_period, lc[\"mag\"],\n",
    "                yerr=lc[\"magerr\"], fmt='.', color='#AA4A44')\n",
    "ax[1].set_xlabel('Phase')\n",
    "ax[0].set_xlabel('Time [MJD]')\n",
    "ax[1].tick_params(axis='x', which='both', bottom=True, top=True, direction='in')\n",
    "ax[0].tick_params(axis='x', which='both', bottom=True, top=True, direction='in')\n",
    "ax[1].tick_params(axis='y', which='both', bottom=True, top=True, direction='in')\n",
    "ax[0].tick_params(axis='y', which='both', bottom=True, top=True, direction='in')\n",
    "ax[0].set_ylabel('Magnitude')\n",
    "ax[0].invert_yaxis()\n",
    "ax[1].invert_yaxis()\n",
    "ax[0].set_title(\"Observed\", weight='bold')\n",
    "ax[1].set_title(f\"Phase-folded, P={best_period:.2f}d\", weight='bold')\n",
    "\n",
    "plt.tight_layout()"
   ]
  },
  {
   "cell_type": "markdown",
   "id": "da941656",
   "metadata": {},
   "source": [
    "## Extra topics\n",
    "\n",
    "### Existing feature extractors\n",
    "\n",
    "In this notebook we demonstrated how you can define and use your own custom functions to operate on light curves. There are also third-party packages that extract common features so that you don't have to implement these operations yourself (e.g. [`light-curve`](https://github.com/light-curve/light-curve-python) package). For more information please read the following [tutorial](https://nested-dask.readthedocs.io/en/latest/tutorials/work_with_lsdb.html#Extract-features-from-ZTF-light-curves)."
   ]
  },
  {
   "cell_type": "markdown",
   "id": "89e1dc66-2eaa-4f56-a0a8-2c6f1d435ab9",
   "metadata": {},
   "source": [
    "### Example of very large analysis"
   ]
  },
  {
   "cell_type": "markdown",
   "id": "6c61bc81-67a6-4647-b82a-6e3442e89b50",
   "metadata": {},
   "source": [
    "This is an example of a similar analysis as above, but on the entire ZTF DR14 dataset, extracting periods from ~billion light curves. The computation took 90 minutes on the Pittsburgh Supercomputer Center resourcees. We used a 256GB manager node and 50 × 32GB workers (3 threads per worker) allocated as a 50 SLURM jobs."
   ]
  },
  {
   "cell_type": "code",
   "execution_count": null,
   "id": "0c896445-0bf8-4fea-b9fd-6bb8e3dc0afa",
   "metadata": {
    "execution": {
     "iopub.status.busy": "2024-11-08T16:33:47.142786Z",
     "iopub.status.idle": "2024-11-08T16:33:47.142914Z",
     "shell.execute_reply": "2024-11-08T16:33:47.142856Z",
     "shell.execute_reply.started": "2024-11-08T16:33:47.142850Z"
    }
   },
   "outputs": [],
   "source": [
    "from IPython.display import YouTubeVideo\n",
    "\n",
    "YouTubeVideo('04lGbtNTzZw', width=800, height=450)"
   ]
  },
  {
   "cell_type": "markdown",
   "id": "39f36bb2-783b-467e-a6a3-539d1447a839",
   "metadata": {},
   "source": [
    "#### Close the DASK client"
   ]
  },
  {
   "cell_type": "code",
   "execution_count": null,
   "id": "c1794235",
   "metadata": {
    "execution": {
     "iopub.status.busy": "2024-11-08T16:33:47.143370Z",
     "iopub.status.idle": "2024-11-08T16:33:47.143497Z",
     "shell.execute_reply": "2024-11-08T16:33:47.143438Z",
     "shell.execute_reply.started": "2024-11-08T16:33:47.143433Z"
    }
   },
   "outputs": [],
   "source": [
    "# Release allocated resources!\n",
    "client.close()"
   ]
  },
  {
   "cell_type": "markdown",
   "id": "a53b354f",
   "metadata": {},
   "source": [
    "### References\n",
    "\n",
    "[1]: https://iopscience.iop.org/article/10.3847/1538-4365/aab766 \\\n",
    "[2]: https://academic.oup.com/mnras/article/505/2/2954/6284767 \\\n",
    "[3]: https://www.astroml.org/gatspy/periodic/lomb_scargle_multiband.html \\\n",
    "[4]: Science with ZTF: https://iopscience.iop.org/article/10.1088/1538-3873/ab006c/pdf \\\n",
    "[5]: https://www.youtube.com/watch?v=2EwtD3Nhazs"
   ]
  }
 ],
 "metadata": {
  "kernelspec": {
   "display_name": "notebook",
   "language": "python",
   "name": "python3"
  },
  "language_info": {
   "codemirror_mode": {
    "name": "ipython",
    "version": 3
   },
   "file_extension": ".py",
   "mimetype": "text/x-python",
   "name": "python",
   "nbconvert_exporter": "python",
   "pygments_lexer": "ipython3",
   "version": "3.11.0"
  }
 },
 "nbformat": 4,
 "nbformat_minor": 5
}
