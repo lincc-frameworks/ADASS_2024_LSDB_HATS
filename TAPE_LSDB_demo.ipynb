{
 "cells": [
  {
   "cell_type": "markdown",
   "metadata": {},
   "source": [
    "**Author**: Andy Tzanidakis \\\n",
    "Last updated: May 05, 2024"
   ]
  },
  {
   "cell_type": "markdown",
   "metadata": {},
   "source": [
    "## VizieR Query"
   ]
  },
  {
   "cell_type": "code",
   "execution_count": 1,
   "metadata": {},
   "outputs": [],
   "source": [
    "## ViZier and Aladin querying \n",
    "from pyvo import registry  # version >=1.4.1 \n",
    "from mocpy import MOC\n",
    "from ipyaladin import Aladin"
   ]
  },
  {
   "cell_type": "code",
   "execution_count": 8,
   "metadata": {},
   "outputs": [
    {
     "name": "stderr",
     "output_type": "stream",
     "text": [
      "WARNING: W02: ?:?:?: W02: '' is not a valid datatype according to the VOSI spec [pyvo.io.vosi.vodataservice]\n"
     ]
    }
   ],
   "source": [
    "# the catalogue name in VizieR\n",
    "CATALOGUE = \"J/ApJS/249/18\"\n",
    "\n",
    "catalogue_ivoid = f\"ivo://CDS.VizieR/{CATALOGUE}\"\n",
    "\n",
    "# the actual query to the registry\n",
    "voresource = registry.search(ivoid=catalogue_ivoid)[0]\n",
    "\n",
    "tables = voresource.get_tables()\n",
    "\n",
    "# We can also extract the tables names for later use\n",
    "tables_names = list(tables.keys())"
   ]
  },
  {
   "cell_type": "code",
   "execution_count": 9,
   "metadata": {},
   "outputs": [
    {
     "name": "stdout",
     "output_type": "stream",
     "text": [
      "Available table names: ['J/ApJS/249/18/table3', 'J/ApJS/249/18/table2']\n"
     ]
    }
   ],
   "source": [
    "print (f\"Available table names: {tables_names}\")\n"
   ]
  },
  {
   "cell_type": "code",
   "execution_count": 11,
   "metadata": {},
   "outputs": [
    {
     "name": "stdout",
     "output_type": "stream",
     "text": [
      "The ZTF catalog of periodic variable stars\n",
      "Short Name: J/ApJS/249/18\n",
      "IVOA Identifier: ivo://cds.vizier/j/apjs/249/18\n",
      "Access modes: conesearch, tap#aux, web\n",
      "Multi-capabilty service -- use get_service()\n",
      "\n",
      "The number of known periodic variables has grown rapidly in recent years.\n",
      "Thanks to its large field of view and faint limiting magnitude, the Zwicky\n",
      "Transient Facility (ZTF) offers a unique opportunity to detect variable stars\n",
      "in the northern sky. Here, we exploit ZTF Data Release 2 (DR2) to search for\n",
      "and classify variables down to r~20.6mag. We classify 781,602 periodic\n",
      "variables into 11 main types using an improved classification method.\n",
      "Comparison with previously published catalogs shows that 621,702 objects\n",
      "(79.5%) are newly discovered or newly classified, including ~700 Cepheids,\n",
      "~5000 RR Lyrae stars, ~15000 {delta} Scuti variables, ~350,000 eclipsing\n",
      "binaries, ~100,000 long-period variables, and about 150,000 rotational\n",
      "variables. The typical misclassification rate and period accuracy are on the\n",
      "order of 2% and 99%, respectively. 74% of our variables are located at\n",
      "Galactic latitudes, |b|<10{deg}. This large sample of Cepheids, RR Lyrae,\n",
      "{delta} Scuti stars, and contact (EW-type) eclipsing binaries is helpful to\n",
      "investigate the Galaxy's disk structure and evolution with an improved\n",
      "completeness, areal coverage, and age resolution. Specifically, the northern\n",
      "warp and the disk's edge at distances of 15-20kpc are significantly better\n",
      "covered than previously. Among rotational variables, RS Canum Venaticorum and\n",
      "BY Draconis-type variables can be separated easily. Our knowledge of stellar\n",
      "chromospheric activity would benefit greatly from a statistical analysis of\n",
      "these types of variables.\n",
      "\n",
      "Subjects: J/ApJS/249/18\n",
      "Waveband Coverage: optical\n",
      "More info: https://cdsarc.cds.unistra.fr/viz-bin/cat/J/ApJS/249/18\n"
     ]
    }
   ],
   "source": [
    "# Let's read quickly the table description...\n",
    "voresource.describe(verbose=True)"
   ]
  },
  {
   "cell_type": "code",
   "execution_count": 12,
   "metadata": {},
   "outputs": [],
   "source": [
    "# Select the first table name\n",
    "first_table_name = tables_names[0]"
   ]
  },
  {
   "cell_type": "code",
   "execution_count": 13,
   "metadata": {},
   "outputs": [],
   "source": [
    "# Initialize TAP service\n",
    "tap_service = voresource.get_service(\"tap\")\n",
    "\n",
    "\n",
    "tap_records = voresource.get_service(\"tap\").run_sync(f'SELECT * from \"{first_table_name}\"')"
   ]
  },
  {
   "cell_type": "code",
   "execution_count": 14,
   "metadata": {},
   "outputs": [],
   "source": [
    "table0 = tap_records.to_table()\n",
    "\n",
    "# Convert to pandas dataframe\n",
    "table_df = table0.to_pandas()"
   ]
  },
  {
   "cell_type": "code",
   "execution_count": 16,
   "metadata": {},
   "outputs": [
    {
     "data": {
      "text/html": [
       "<div>\n",
       "<style scoped>\n",
       "    .dataframe tbody tr th:only-of-type {\n",
       "        vertical-align: middle;\n",
       "    }\n",
       "\n",
       "    .dataframe tbody tr th {\n",
       "        vertical-align: top;\n",
       "    }\n",
       "\n",
       "    .dataframe thead th {\n",
       "        text-align: right;\n",
       "    }\n",
       "</style>\n",
       "<table border=\"1\" class=\"dataframe\">\n",
       "  <thead>\n",
       "    <tr style=\"text-align: right;\">\n",
       "      <th></th>\n",
       "      <th>recno</th>\n",
       "      <th>ID</th>\n",
       "      <th>RAJ2000</th>\n",
       "      <th>DEJ2000</th>\n",
       "      <th>gmag</th>\n",
       "      <th>rmag</th>\n",
       "      <th>Per-g</th>\n",
       "      <th>Per-r</th>\n",
       "      <th>gAmp</th>\n",
       "      <th>rAmp</th>\n",
       "      <th>Ng</th>\n",
       "      <th>Nr</th>\n",
       "      <th>log(FAP-g)</th>\n",
       "      <th>log(FAP-r)</th>\n",
       "    </tr>\n",
       "  </thead>\n",
       "  <tbody>\n",
       "    <tr>\n",
       "      <th>0</th>\n",
       "      <td>812157</td>\n",
       "      <td>ZTFJ030128.43+014610.8</td>\n",
       "      <td>45.36846</td>\n",
       "      <td>1.76968</td>\n",
       "      <td>19.420</td>\n",
       "      <td>18.231</td>\n",
       "      <td>0.33219</td>\n",
       "      <td>279.84490</td>\n",
       "      <td>0.859</td>\n",
       "      <td>1.107</td>\n",
       "      <td>37</td>\n",
       "      <td>50</td>\n",
       "      <td>-1.719</td>\n",
       "      <td>-3.498</td>\n",
       "    </tr>\n",
       "    <tr>\n",
       "      <th>1</th>\n",
       "      <td>812394</td>\n",
       "      <td>ZTFJ030414.33+022711.3</td>\n",
       "      <td>46.05971</td>\n",
       "      <td>2.45314</td>\n",
       "      <td>17.153</td>\n",
       "      <td>15.699</td>\n",
       "      <td>1.81781</td>\n",
       "      <td>1.81711</td>\n",
       "      <td>0.114</td>\n",
       "      <td>0.103</td>\n",
       "      <td>42</td>\n",
       "      <td>51</td>\n",
       "      <td>-1.938</td>\n",
       "      <td>-4.268</td>\n",
       "    </tr>\n",
       "    <tr>\n",
       "      <th>2</th>\n",
       "      <td>811835</td>\n",
       "      <td>ZTFJ025758.53+020940.4</td>\n",
       "      <td>44.49391</td>\n",
       "      <td>2.16123</td>\n",
       "      <td>18.721</td>\n",
       "      <td>18.551</td>\n",
       "      <td>1.00094</td>\n",
       "      <td>1.00061</td>\n",
       "      <td>0.395</td>\n",
       "      <td>0.225</td>\n",
       "      <td>41</td>\n",
       "      <td>51</td>\n",
       "      <td>-2.784</td>\n",
       "      <td>-3.141</td>\n",
       "    </tr>\n",
       "    <tr>\n",
       "      <th>3</th>\n",
       "      <td>812450</td>\n",
       "      <td>ZTFJ030452.09+032521.5</td>\n",
       "      <td>46.21707</td>\n",
       "      <td>3.42264</td>\n",
       "      <td>18.333</td>\n",
       "      <td>17.019</td>\n",
       "      <td>2.01020</td>\n",
       "      <td>2.00564</td>\n",
       "      <td>0.200</td>\n",
       "      <td>0.132</td>\n",
       "      <td>42</td>\n",
       "      <td>51</td>\n",
       "      <td>-2.629</td>\n",
       "      <td>-4.353</td>\n",
       "    </tr>\n",
       "    <tr>\n",
       "      <th>4</th>\n",
       "      <td>812325</td>\n",
       "      <td>ZTFJ030331.34+033657.3</td>\n",
       "      <td>45.88060</td>\n",
       "      <td>3.61593</td>\n",
       "      <td>19.026</td>\n",
       "      <td>18.685</td>\n",
       "      <td>3.03231</td>\n",
       "      <td>1.48578</td>\n",
       "      <td>0.729</td>\n",
       "      <td>0.525</td>\n",
       "      <td>37</td>\n",
       "      <td>49</td>\n",
       "      <td>-1.250</td>\n",
       "      <td>-4.315</td>\n",
       "    </tr>\n",
       "  </tbody>\n",
       "</table>\n",
       "</div>"
      ],
      "text/plain": [
       "    recno                      ID   RAJ2000  DEJ2000    gmag    rmag    Per-g  \\\n",
       "0  812157  ZTFJ030128.43+014610.8  45.36846  1.76968  19.420  18.231  0.33219   \n",
       "1  812394  ZTFJ030414.33+022711.3  46.05971  2.45314  17.153  15.699  1.81781   \n",
       "2  811835  ZTFJ025758.53+020940.4  44.49391  2.16123  18.721  18.551  1.00094   \n",
       "3  812450  ZTFJ030452.09+032521.5  46.21707  3.42264  18.333  17.019  2.01020   \n",
       "4  812325  ZTFJ030331.34+033657.3  45.88060  3.61593  19.026  18.685  3.03231   \n",
       "\n",
       "       Per-r   gAmp   rAmp  Ng  Nr  log(FAP-g)  log(FAP-r)  \n",
       "0  279.84490  0.859  1.107  37  50      -1.719      -3.498  \n",
       "1    1.81711  0.114  0.103  42  51      -1.938      -4.268  \n",
       "2    1.00061  0.395  0.225  41  51      -2.784      -3.141  \n",
       "3    2.00564  0.200  0.132  42  51      -2.629      -4.353  \n",
       "4    1.48578  0.729  0.525  37  49      -1.250      -4.315  "
      ]
     },
     "execution_count": 16,
     "metadata": {},
     "output_type": "execute_result"
    }
   ],
   "source": [
    "table_df.head(5)"
   ]
  },
  {
   "cell_type": "code",
   "execution_count": null,
   "metadata": {},
   "outputs": [],
   "source": []
  }
 ],
 "metadata": {
  "kernelspec": {
   "display_name": "lsdb_demo_true",
   "language": "python",
   "name": "python3"
  },
  "language_info": {
   "codemirror_mode": {
    "name": "ipython",
    "version": 3
   },
   "file_extension": ".py",
   "mimetype": "text/x-python",
   "name": "python",
   "nbconvert_exporter": "python",
   "pygments_lexer": "ipython3",
   "version": "3.10.13"
  },
  "orig_nbformat": 4
 },
 "nbformat": 4,
 "nbformat_minor": 2
}
