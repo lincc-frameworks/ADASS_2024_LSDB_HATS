{
 "cells": [
  {
   "cell_type": "code",
   "execution_count": 57,
   "id": "2763f7ef",
   "metadata": {},
   "outputs": [
    {
     "data": {
      "text/plain": [
       "<dask.config.set at 0x7f4c484981f0>"
      ]
     },
     "execution_count": 57,
     "metadata": {},
     "output_type": "execute_result"
    }
   ],
   "source": [
    "import matplotlib.pyplot as plt\n",
    "import pandas as pd\n",
    "import astropy.units as u\n",
    "%matplotlib inline\n",
    "%config InlineBackend.figure_format = \"retina\"\n",
    "from matplotlib import rcParams\n",
    "rcParams['savefig.dpi'] = 550\n",
    "rcParams['font.size'] = 20\n",
    "plt.rc('font', family='serif')\n",
    "import lsdb\n",
    "from tqdm import tqdm\n",
    "import dask\n",
    "dask.config.set({\"temporary-directory\" :'/epyc/ssd/users/atzanida/tmp'})\n",
    "dask.config.set({\"dataframe.shuffle-compression\": 'Snappy'})"
   ]
  },
  {
   "cell_type": "code",
   "execution_count": 58,
   "id": "95665ca0",
   "metadata": {},
   "outputs": [
    {
     "name": "stdout",
     "output_type": "stream",
     "text": [
      "CPU times: user 42.6 s, sys: 8.19 s, total: 50.8 s\n",
      "Wall time: 50.7 s\n"
     ]
    }
   ],
   "source": [
    "%%time\n",
    "gaia = lsdb.read_hipscat(\"/data3/epyc/data3/hipscat/catalogs/gaia_dr3/gaia\", \n",
    "                        columns=['ra', 'dec', 'parallax', 'parallax_over_error', \n",
    "                                'bp_rp', 'solution_id', \n",
    "                                'source_id', \n",
    "                                'pmra', 'pmra_error', \n",
    "                                'pmdec', 'pmdec_error', \n",
    "                                'parallax_error', \n",
    "                                'phot_g_mean_mag', \n",
    "                                'l', 'b', 'non_single_star', \n",
    "                                'classprob_dsc_combmod_galaxy', \n",
    "                                'classprob_dsc_combmod_star', \n",
    "                                 'in_qso_candidates'])\n",
    "\n",
    "# load ZTF object table\n",
    "ztf = lsdb.read_hipscat(\"/epyc/data3/hipscat/catalogs/ztf_axs/ztf_dr14\")\n",
    "\n",
    "# Load ZTF DR14 sources\n",
    "ztf_sources = lsdb.read_hipscat(\"/epyc/data3/hipscat/catalogs/ztf_axs/ztf_source\")"
   ]
  },
  {
   "cell_type": "code",
   "execution_count": 68,
   "id": "bea95a52",
   "metadata": {},
   "outputs": [
    {
     "ename": "ValueError",
     "evalue": "Right margin is required for cross-match",
     "output_type": "error",
     "traceback": [
      "\u001b[0;31m---------------------------------------------------------------------------\u001b[0m",
      "\u001b[0;31mValueError\u001b[0m                                Traceback (most recent call last)",
      "Cell \u001b[0;32mIn[68], line 1\u001b[0m\n\u001b[0;32m----> 1\u001b[0m \u001b[43mgaia\u001b[49m\u001b[38;5;241;43m.\u001b[39;49m\u001b[43mcrossmatch\u001b[49m\u001b[43m(\u001b[49m\u001b[43mztf\u001b[49m\u001b[43m,\u001b[49m\u001b[43m \u001b[49m\u001b[43mradius_arcsec\u001b[49m\u001b[38;5;241;43m=\u001b[39;49m\u001b[38;5;241;43m1\u001b[39;49m\u001b[43m)\u001b[49m\n",
      "File \u001b[0;32m/epyc/users/atzanida/anaconda3/envs/lsdb_demo_true/lib/python3.10/site-packages/lsdb/catalog/catalog.py:178\u001b[0m, in \u001b[0;36mCatalog.crossmatch\u001b[0;34m(self, other, suffixes, algorithm, output_catalog_name, **kwargs)\u001b[0m\n\u001b[1;32m    176\u001b[0m \u001b[38;5;28;01mif\u001b[39;00m output_catalog_name \u001b[38;5;129;01mis\u001b[39;00m \u001b[38;5;28;01mNone\u001b[39;00m:\n\u001b[1;32m    177\u001b[0m     output_catalog_name \u001b[38;5;241m=\u001b[39m \u001b[38;5;124mf\u001b[39m\u001b[38;5;124m\"\u001b[39m\u001b[38;5;132;01m{\u001b[39;00m\u001b[38;5;28mself\u001b[39m\u001b[38;5;241m.\u001b[39mname\u001b[38;5;132;01m}\u001b[39;00m\u001b[38;5;124m_x_\u001b[39m\u001b[38;5;132;01m{\u001b[39;00mother\u001b[38;5;241m.\u001b[39mname\u001b[38;5;132;01m}\u001b[39;00m\u001b[38;5;124m\"\u001b[39m\n\u001b[0;32m--> 178\u001b[0m ddf, ddf_map, alignment \u001b[38;5;241m=\u001b[39m \u001b[43mcrossmatch_catalog_data\u001b[49m\u001b[43m(\u001b[49m\n\u001b[1;32m    179\u001b[0m \u001b[43m    \u001b[49m\u001b[38;5;28;43mself\u001b[39;49m\u001b[43m,\u001b[49m\u001b[43m \u001b[49m\u001b[43mother\u001b[49m\u001b[43m,\u001b[49m\u001b[43m \u001b[49m\u001b[43msuffixes\u001b[49m\u001b[43m,\u001b[49m\u001b[43m \u001b[49m\u001b[43malgorithm\u001b[49m\u001b[38;5;241;43m=\u001b[39;49m\u001b[43malgorithm\u001b[49m\u001b[43m,\u001b[49m\u001b[43m \u001b[49m\u001b[38;5;241;43m*\u001b[39;49m\u001b[38;5;241;43m*\u001b[39;49m\u001b[43mkwargs\u001b[49m\n\u001b[1;32m    180\u001b[0m \u001b[43m\u001b[49m\u001b[43m)\u001b[49m\n\u001b[1;32m    181\u001b[0m new_catalog_info \u001b[38;5;241m=\u001b[39m dataclasses\u001b[38;5;241m.\u001b[39mreplace(\n\u001b[1;32m    182\u001b[0m     \u001b[38;5;28mself\u001b[39m\u001b[38;5;241m.\u001b[39mhc_structure\u001b[38;5;241m.\u001b[39mcatalog_info,\n\u001b[1;32m    183\u001b[0m     catalog_name\u001b[38;5;241m=\u001b[39moutput_catalog_name,\n\u001b[1;32m    184\u001b[0m     ra_column\u001b[38;5;241m=\u001b[39m\u001b[38;5;28mself\u001b[39m\u001b[38;5;241m.\u001b[39mhc_structure\u001b[38;5;241m.\u001b[39mcatalog_info\u001b[38;5;241m.\u001b[39mra_column \u001b[38;5;241m+\u001b[39m suffixes[\u001b[38;5;241m0\u001b[39m],\n\u001b[1;32m    185\u001b[0m     dec_column\u001b[38;5;241m=\u001b[39m\u001b[38;5;28mself\u001b[39m\u001b[38;5;241m.\u001b[39mhc_structure\u001b[38;5;241m.\u001b[39mcatalog_info\u001b[38;5;241m.\u001b[39mdec_column \u001b[38;5;241m+\u001b[39m suffixes[\u001b[38;5;241m0\u001b[39m],\n\u001b[1;32m    186\u001b[0m )\n\u001b[1;32m    187\u001b[0m hc_catalog \u001b[38;5;241m=\u001b[39m hc\u001b[38;5;241m.\u001b[39mcatalog\u001b[38;5;241m.\u001b[39mCatalog(new_catalog_info, alignment\u001b[38;5;241m.\u001b[39mpixel_tree)\n",
      "File \u001b[0;32m/epyc/users/atzanida/anaconda3/envs/lsdb_demo_true/lib/python3.10/site-packages/lsdb/dask/crossmatch_catalog_data.py:114\u001b[0m, in \u001b[0;36mcrossmatch_catalog_data\u001b[0;34m(left, right, suffixes, algorithm, **kwargs)\u001b[0m\n\u001b[1;32m     99\u001b[0m \u001b[38;5;66;03m# Create an instance of the crossmatch algorithm, using the metadata dataframes\u001b[39;00m\n\u001b[1;32m    100\u001b[0m \u001b[38;5;66;03m# and the provided kwargs.\u001b[39;00m\n\u001b[1;32m    101\u001b[0m meta_df_crossmatch \u001b[38;5;241m=\u001b[39m crossmatch_algorithm(\n\u001b[1;32m    102\u001b[0m     \u001b[38;5;66;03m# pylint: disable=protected-access\u001b[39;00m\n\u001b[1;32m    103\u001b[0m     left\u001b[38;5;241m.\u001b[39m_ddf,\n\u001b[0;32m   (...)\u001b[0m\n\u001b[1;32m    112\u001b[0m     suffixes,\n\u001b[1;32m    113\u001b[0m )\n\u001b[0;32m--> 114\u001b[0m \u001b[43mmeta_df_crossmatch\u001b[49m\u001b[38;5;241;43m.\u001b[39;49m\u001b[43mvalidate\u001b[49m\u001b[43m(\u001b[49m\u001b[38;5;241;43m*\u001b[39;49m\u001b[38;5;241;43m*\u001b[39;49m\u001b[43mkwargs\u001b[49m\u001b[43m)\u001b[49m\n\u001b[1;32m    116\u001b[0m \u001b[38;5;28;01mif\u001b[39;00m right\u001b[38;5;241m.\u001b[39mmargin \u001b[38;5;129;01mis\u001b[39;00m \u001b[38;5;28;01mNone\u001b[39;00m:\n\u001b[1;32m    117\u001b[0m     warnings\u001b[38;5;241m.\u001b[39mwarn(\u001b[38;5;124m\"\u001b[39m\u001b[38;5;124mRight catalog does not have a margin cache. Results may be inaccurate\u001b[39m\u001b[38;5;124m\"\u001b[39m, \u001b[38;5;167;01mRuntimeWarning\u001b[39;00m)\n",
      "File \u001b[0;32m/epyc/users/atzanida/anaconda3/envs/lsdb_demo_true/lib/python3.10/site-packages/lsdb/core/crossmatch/kdtree_match.py:29\u001b[0m, in \u001b[0;36mKdTreeCrossmatch.validate\u001b[0;34m(self, n_neighbors, radius_arcsec, require_right_margin, **kwargs)\u001b[0m\n\u001b[1;32m     27\u001b[0m \u001b[38;5;28;01mif\u001b[39;00m \u001b[38;5;28mself\u001b[39m\u001b[38;5;241m.\u001b[39mright_margin_hc_structure \u001b[38;5;129;01mis\u001b[39;00m \u001b[38;5;28;01mNone\u001b[39;00m:\n\u001b[1;32m     28\u001b[0m     \u001b[38;5;28;01mif\u001b[39;00m require_right_margin:\n\u001b[0;32m---> 29\u001b[0m         \u001b[38;5;28;01mraise\u001b[39;00m \u001b[38;5;167;01mValueError\u001b[39;00m(\u001b[38;5;124m\"\u001b[39m\u001b[38;5;124mRight margin is required for cross-match\u001b[39m\u001b[38;5;124m\"\u001b[39m)\n\u001b[1;32m     30\u001b[0m \u001b[38;5;28;01melse\u001b[39;00m:\n\u001b[1;32m     31\u001b[0m     \u001b[38;5;28;01mif\u001b[39;00m \u001b[38;5;28mself\u001b[39m\u001b[38;5;241m.\u001b[39mright_margin_hc_structure\u001b[38;5;241m.\u001b[39mcatalog_info\u001b[38;5;241m.\u001b[39mmargin_threshold \u001b[38;5;241m<\u001b[39m radius_arcsec:\n",
      "\u001b[0;31mValueError\u001b[0m: Right margin is required for cross-match"
     ]
    }
   ],
   "source": [
    "gaia.crossmatch(ztf, radius_arcsec=1)"
   ]
  },
  {
   "cell_type": "code",
   "execution_count": 64,
   "id": "25f041dd",
   "metadata": {},
   "outputs": [
    {
     "ename": "ValueError",
     "evalue": "Right margin is required for cross-match",
     "output_type": "error",
     "traceback": [
      "\u001b[0;31m---------------------------------------------------------------------------\u001b[0m",
      "\u001b[0;31mValueError\u001b[0m                                Traceback (most recent call last)",
      "File \u001b[0;32m<timed exec>:7\u001b[0m\n",
      "File \u001b[0;32m/epyc/users/atzanida/anaconda3/envs/lsdb_demo_true/lib/python3.10/site-packages/lsdb/catalog/catalog.py:178\u001b[0m, in \u001b[0;36mCatalog.crossmatch\u001b[0;34m(self, other, suffixes, algorithm, output_catalog_name, **kwargs)\u001b[0m\n\u001b[1;32m    176\u001b[0m \u001b[38;5;28;01mif\u001b[39;00m output_catalog_name \u001b[38;5;129;01mis\u001b[39;00m \u001b[38;5;28;01mNone\u001b[39;00m:\n\u001b[1;32m    177\u001b[0m     output_catalog_name \u001b[38;5;241m=\u001b[39m \u001b[38;5;124mf\u001b[39m\u001b[38;5;124m\"\u001b[39m\u001b[38;5;132;01m{\u001b[39;00m\u001b[38;5;28mself\u001b[39m\u001b[38;5;241m.\u001b[39mname\u001b[38;5;132;01m}\u001b[39;00m\u001b[38;5;124m_x_\u001b[39m\u001b[38;5;132;01m{\u001b[39;00mother\u001b[38;5;241m.\u001b[39mname\u001b[38;5;132;01m}\u001b[39;00m\u001b[38;5;124m\"\u001b[39m\n\u001b[0;32m--> 178\u001b[0m ddf, ddf_map, alignment \u001b[38;5;241m=\u001b[39m \u001b[43mcrossmatch_catalog_data\u001b[49m\u001b[43m(\u001b[49m\n\u001b[1;32m    179\u001b[0m \u001b[43m    \u001b[49m\u001b[38;5;28;43mself\u001b[39;49m\u001b[43m,\u001b[49m\u001b[43m \u001b[49m\u001b[43mother\u001b[49m\u001b[43m,\u001b[49m\u001b[43m \u001b[49m\u001b[43msuffixes\u001b[49m\u001b[43m,\u001b[49m\u001b[43m \u001b[49m\u001b[43malgorithm\u001b[49m\u001b[38;5;241;43m=\u001b[39;49m\u001b[43malgorithm\u001b[49m\u001b[43m,\u001b[49m\u001b[43m \u001b[49m\u001b[38;5;241;43m*\u001b[39;49m\u001b[38;5;241;43m*\u001b[39;49m\u001b[43mkwargs\u001b[49m\n\u001b[1;32m    180\u001b[0m \u001b[43m\u001b[49m\u001b[43m)\u001b[49m\n\u001b[1;32m    181\u001b[0m new_catalog_info \u001b[38;5;241m=\u001b[39m dataclasses\u001b[38;5;241m.\u001b[39mreplace(\n\u001b[1;32m    182\u001b[0m     \u001b[38;5;28mself\u001b[39m\u001b[38;5;241m.\u001b[39mhc_structure\u001b[38;5;241m.\u001b[39mcatalog_info,\n\u001b[1;32m    183\u001b[0m     catalog_name\u001b[38;5;241m=\u001b[39moutput_catalog_name,\n\u001b[1;32m    184\u001b[0m     ra_column\u001b[38;5;241m=\u001b[39m\u001b[38;5;28mself\u001b[39m\u001b[38;5;241m.\u001b[39mhc_structure\u001b[38;5;241m.\u001b[39mcatalog_info\u001b[38;5;241m.\u001b[39mra_column \u001b[38;5;241m+\u001b[39m suffixes[\u001b[38;5;241m0\u001b[39m],\n\u001b[1;32m    185\u001b[0m     dec_column\u001b[38;5;241m=\u001b[39m\u001b[38;5;28mself\u001b[39m\u001b[38;5;241m.\u001b[39mhc_structure\u001b[38;5;241m.\u001b[39mcatalog_info\u001b[38;5;241m.\u001b[39mdec_column \u001b[38;5;241m+\u001b[39m suffixes[\u001b[38;5;241m0\u001b[39m],\n\u001b[1;32m    186\u001b[0m )\n\u001b[1;32m    187\u001b[0m hc_catalog \u001b[38;5;241m=\u001b[39m hc\u001b[38;5;241m.\u001b[39mcatalog\u001b[38;5;241m.\u001b[39mCatalog(new_catalog_info, alignment\u001b[38;5;241m.\u001b[39mpixel_tree)\n",
      "File \u001b[0;32m/epyc/users/atzanida/anaconda3/envs/lsdb_demo_true/lib/python3.10/site-packages/lsdb/dask/crossmatch_catalog_data.py:114\u001b[0m, in \u001b[0;36mcrossmatch_catalog_data\u001b[0;34m(left, right, suffixes, algorithm, **kwargs)\u001b[0m\n\u001b[1;32m     99\u001b[0m \u001b[38;5;66;03m# Create an instance of the crossmatch algorithm, using the metadata dataframes\u001b[39;00m\n\u001b[1;32m    100\u001b[0m \u001b[38;5;66;03m# and the provided kwargs.\u001b[39;00m\n\u001b[1;32m    101\u001b[0m meta_df_crossmatch \u001b[38;5;241m=\u001b[39m crossmatch_algorithm(\n\u001b[1;32m    102\u001b[0m     \u001b[38;5;66;03m# pylint: disable=protected-access\u001b[39;00m\n\u001b[1;32m    103\u001b[0m     left\u001b[38;5;241m.\u001b[39m_ddf,\n\u001b[0;32m   (...)\u001b[0m\n\u001b[1;32m    112\u001b[0m     suffixes,\n\u001b[1;32m    113\u001b[0m )\n\u001b[0;32m--> 114\u001b[0m \u001b[43mmeta_df_crossmatch\u001b[49m\u001b[38;5;241;43m.\u001b[39;49m\u001b[43mvalidate\u001b[49m\u001b[43m(\u001b[49m\u001b[38;5;241;43m*\u001b[39;49m\u001b[38;5;241;43m*\u001b[39;49m\u001b[43mkwargs\u001b[49m\u001b[43m)\u001b[49m\n\u001b[1;32m    116\u001b[0m \u001b[38;5;28;01mif\u001b[39;00m right\u001b[38;5;241m.\u001b[39mmargin \u001b[38;5;129;01mis\u001b[39;00m \u001b[38;5;28;01mNone\u001b[39;00m:\n\u001b[1;32m    117\u001b[0m     warnings\u001b[38;5;241m.\u001b[39mwarn(\u001b[38;5;124m\"\u001b[39m\u001b[38;5;124mRight catalog does not have a margin cache. Results may be inaccurate\u001b[39m\u001b[38;5;124m\"\u001b[39m, \u001b[38;5;167;01mRuntimeWarning\u001b[39;00m)\n",
      "File \u001b[0;32m/epyc/users/atzanida/anaconda3/envs/lsdb_demo_true/lib/python3.10/site-packages/lsdb/core/crossmatch/kdtree_match.py:29\u001b[0m, in \u001b[0;36mKdTreeCrossmatch.validate\u001b[0;34m(self, n_neighbors, radius_arcsec, require_right_margin, **kwargs)\u001b[0m\n\u001b[1;32m     27\u001b[0m \u001b[38;5;28;01mif\u001b[39;00m \u001b[38;5;28mself\u001b[39m\u001b[38;5;241m.\u001b[39mright_margin_hc_structure \u001b[38;5;129;01mis\u001b[39;00m \u001b[38;5;28;01mNone\u001b[39;00m:\n\u001b[1;32m     28\u001b[0m     \u001b[38;5;28;01mif\u001b[39;00m require_right_margin:\n\u001b[0;32m---> 29\u001b[0m         \u001b[38;5;28;01mraise\u001b[39;00m \u001b[38;5;167;01mValueError\u001b[39;00m(\u001b[38;5;124m\"\u001b[39m\u001b[38;5;124mRight margin is required for cross-match\u001b[39m\u001b[38;5;124m\"\u001b[39m)\n\u001b[1;32m     30\u001b[0m \u001b[38;5;28;01melse\u001b[39;00m:\n\u001b[1;32m     31\u001b[0m     \u001b[38;5;28;01mif\u001b[39;00m \u001b[38;5;28mself\u001b[39m\u001b[38;5;241m.\u001b[39mright_margin_hc_structure\u001b[38;5;241m.\u001b[39mcatalog_info\u001b[38;5;241m.\u001b[39mmargin_threshold \u001b[38;5;241m<\u001b[39m radius_arcsec:\n",
      "\u001b[0;31mValueError\u001b[0m: Right margin is required for cross-match"
     ]
    }
   ],
   "source": [
    "%%time\n",
    "ra, dec = 132.8460000, +11.8140000\n",
    "rad = 250 # in arc\n",
    "_sample = ztf.cone_search(\n",
    "    ra=ra,\n",
    "    dec=dec,\n",
    "    radius_arcsec=rad,\n",
    ").crossmatch(\n",
    "    gaia\n",
    ").query(\n",
    "    \"nobs_g_ztf_dr14 > 150 and nobs_r_ztf_dr14 > 150 and \\\n",
    "    parallax_gaia > 0 and parallax_over_error_gaia > 10 and \\\n",
    "    classprob_dsc_combmod_star_gaia > 0.9\"\n",
    ").compute()"
   ]
  },
  {
   "cell_type": "code",
   "execution_count": null,
   "id": "d07d4e34",
   "metadata": {},
   "outputs": [],
   "source": []
  }
 ],
 "metadata": {
  "kernelspec": {
   "display_name": "lsdb_demo_true",
   "language": "python",
   "name": "lsdb_demo_true"
  },
  "language_info": {
   "codemirror_mode": {
    "name": "ipython",
    "version": 3
   },
   "file_extension": ".py",
   "mimetype": "text/x-python",
   "name": "python",
   "nbconvert_exporter": "python",
   "pygments_lexer": "ipython3",
   "version": "3.10.13"
  }
 },
 "nbformat": 4,
 "nbformat_minor": 5
}
